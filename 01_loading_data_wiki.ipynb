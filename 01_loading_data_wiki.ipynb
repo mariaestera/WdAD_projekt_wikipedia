{
 "cells": [
  {
   "metadata": {},
   "cell_type": "markdown",
   "source": [
    "# Loading Data via the Wikipedia API\n",
    "\n",
    "## Overview of the Prepared Dataset\n",
    "\n",
    "- The planned target variable is the **Click-Through Rate (CTR)** of selected Wikipedia pages.  \n",
    "- Data will be collected for **5,000–10,000 Wikipedia articles** on similar topics (e.g., science) to ensure accurate predictions.  \n",
    "- The script will retrieve the following **features** for each article:  \n",
    "  - topic,  \n",
    "  - summary,  \n",
    "  - number and list of categories,  \n",
    "  - article length (in words),  \n",
    "  - number of links,  \n",
    "  - number of links in the first section,\n",
    "  - number of edits and editors,  \n",
    "  - clicks in,  \n",
    "  - clicks out,  \n",
    "  - number of page views over the last 30 days.  \n",
    "- Based on these data, **derived features** will be created — for example:  \n",
    "  - one-hot encoding of selected keywords (based on a bag-of-words approach),  \n",
    "  - title and/or summary embeddings,  \n",
    "  - ratio of links to total words.  \n",
    "- Additionally, **external metadata** related to web traffic will be retrieved (e.g., Google Trends data for article titles).  \n"
   ],
   "id": "996c39b054e3bdb2"
  },
  {
   "metadata": {
    "ExecuteTime": {
     "end_time": "2025-10-19T14:55:21.048717Z",
     "start_time": "2025-10-19T14:55:20.998108Z"
    }
   },
   "cell_type": "code",
   "source": "%cd C:\\Users\\piecz\\PycharmProjects\\WdAN_projekt_wikipedia",
   "id": "d569027256213bc4",
   "outputs": [
    {
     "name": "stdout",
     "output_type": "stream",
     "text": [
      "[WinError 2] Nie można odnaleźć określonego pliku: 'C:\\\\Users\\\\piecz\\\\PycharmProjects\\\\WdAN_projekt_wikipedia'\n",
      "C:\\Users\\piecz\\PycharmProjects\\pythonProject2\\WdAN_projekt\n"
     ]
    }
   ],
   "execution_count": 23
  },
  {
   "metadata": {},
   "cell_type": "code",
   "source": "!pip install wikipedia-api",
   "id": "93ad46383ab0fdeb",
   "outputs": [],
   "execution_count": null
  },
  {
   "metadata": {
    "ExecuteTime": {
     "end_time": "2025-10-19T14:37:22.457675Z",
     "start_time": "2025-10-19T14:37:22.330550Z"
    }
   },
   "cell_type": "code",
   "source": [
    "import pandas as pd\n",
    "import numpy as np\n",
    "import wikipediaapi\n",
    "import sqlite3\n",
    "import os\n",
    "import requests\n",
    "from IPython.display import display\n",
    "import time\n",
    "import random\n",
    "from requests.exceptions import RequestException\n",
    "from json import JSONDecodeError\n",
    "import functions.wiki_db as wiki_db\n",
    "import importlib\n",
    "importlib.reload(wiki_db)"
   ],
   "id": "1583ff91d66b6d27",
   "outputs": [
    {
     "data": {
      "text/plain": [
       "<module 'functions.wiki_db' from 'C:\\\\Users\\\\piecz\\\\PycharmProjects\\\\WdAD_projekt_wikipedia\\\\functions\\\\wiki_db.py'>"
      ]
     },
     "execution_count": 8,
     "metadata": {},
     "output_type": "execute_result"
    }
   ],
   "execution_count": 8
  },
  {
   "metadata": {},
   "cell_type": "markdown",
   "source": "# Load articles belonging to the given categories",
   "id": "68c16f1bce6ad54e"
  },
  {
   "metadata": {
    "ExecuteTime": {
     "end_time": "2025-10-19T14:45:17.292069Z",
     "start_time": "2025-10-19T14:45:05.423178Z"
    }
   },
   "cell_type": "code",
   "source": [
    "categories_list = [\"Cycling activism\", \"Private transport\"]  \n",
    "df_list = []\n",
    "\n",
    "for category in categories_list:\n",
    "    df = wiki_db.get_articles_from_category(category, depth=0)\n",
    "    df_list.append(df)\n",
    "    print(f\"\\nNumber of articles from {category}: {len(df)}\")"
   ],
   "id": "334e62306df365fd",
   "outputs": [
    {
     "name": "stdout",
     "output_type": "stream",
     "text": [
      "\n",
      "Number of articles from Cycling activism: 12\n",
      "\n",
      "Number of articles from Private transport: 9\n"
     ]
    }
   ],
   "execution_count": 15
  },
  {
   "metadata": {
    "ExecuteTime": {
     "end_time": "2025-10-19T14:45:33.452041Z",
     "start_time": "2025-10-19T14:45:33.400119Z"
    }
   },
   "cell_type": "code",
   "source": [
    "df_articles = pd.concat(df_list)\n",
    "display(df_articles.sample(5))\n",
    "print(f\"\\nTotal articles collected: {len(df_articles)}\")"
   ],
   "id": "207524dc09edef17",
   "outputs": [
    {
     "data": {
      "text/plain": [
       "                                          title  word_count  \\\n",
       "3                        Cycling Action Network         459   \n",
       "3  List of automated transit networks suppliers         234   \n",
       "2                                           Car        5692   \n",
       "8                                       Walking        5264   \n",
       "6                                 I BIKE Dublin         389   \n",
       "\n",
       "   num_links_internal  num_categories  \\\n",
       "3                  23               9   \n",
       "3                  71               7   \n",
       "2                 500              41   \n",
       "8                 500              17   \n",
       "6                  24              13   \n",
       "\n",
       "                                          categories  num_images  \\\n",
       "3  [Category:All articles containing potentially ...           4   \n",
       "3  [Category:All articles with bare URLs for cita...          10   \n",
       "2  [Category:19th-century inventions, Category:Al...          10   \n",
       "8  [Category:All Wikipedia articles in need of up...          10   \n",
       "6  [Category:All Wikipedia articles written in Hi...           4   \n",
       "\n",
       "                                        image_titles  num_edits  num_editors  \\\n",
       "3  [File:Can-logo.png, File:Flag of New Zealand.s...         95           34   \n",
       "3  [File:ATO.svg, File:Flag of Australia (convert...        382          110   \n",
       "2  [File:07-08 Chevrolet Suburban LT.jpg, File:18...        500          272   \n",
       "8  [File:0 15e16 17027a85 orig.jpg, File:1987Worl...        500          327   \n",
       "6  [File:Critical Mass Cycle Dublin.jpg, File:IBI...         42           19   \n",
       "\n",
       "                                             summary         creation_date  \\\n",
       "3  Cycling Action Network (CAN) is a national cyc...  2008-03-28T21:12:19Z   \n",
       "3  This is a list of well-known automated transit...  2014-10-03T19:15:00Z   \n",
       "2  A car, or an automobile, is a motor vehicle wi...  2001-11-01T00:18:55Z   \n",
       "8  Walking (also known as ambulation) is one of t...  2001-08-19T18:46:26Z   \n",
       "6  I BIKE Dublin is an advocacy group founded in ...  2019-12-04T11:20:05Z   \n",
       "\n",
       "   mo_page_views  \n",
       "3            114  \n",
       "3            178  \n",
       "2          93856  \n",
       "8          11545  \n",
       "6            178  "
      ],
      "text/html": [
       "<div>\n",
       "<style scoped>\n",
       "    .dataframe tbody tr th:only-of-type {\n",
       "        vertical-align: middle;\n",
       "    }\n",
       "\n",
       "    .dataframe tbody tr th {\n",
       "        vertical-align: top;\n",
       "    }\n",
       "\n",
       "    .dataframe thead th {\n",
       "        text-align: right;\n",
       "    }\n",
       "</style>\n",
       "<table border=\"1\" class=\"dataframe\">\n",
       "  <thead>\n",
       "    <tr style=\"text-align: right;\">\n",
       "      <th></th>\n",
       "      <th>title</th>\n",
       "      <th>word_count</th>\n",
       "      <th>num_links_internal</th>\n",
       "      <th>num_categories</th>\n",
       "      <th>categories</th>\n",
       "      <th>num_images</th>\n",
       "      <th>image_titles</th>\n",
       "      <th>num_edits</th>\n",
       "      <th>num_editors</th>\n",
       "      <th>summary</th>\n",
       "      <th>creation_date</th>\n",
       "      <th>mo_page_views</th>\n",
       "    </tr>\n",
       "  </thead>\n",
       "  <tbody>\n",
       "    <tr>\n",
       "      <th>3</th>\n",
       "      <td>Cycling Action Network</td>\n",
       "      <td>459</td>\n",
       "      <td>23</td>\n",
       "      <td>9</td>\n",
       "      <td>[Category:All articles containing potentially ...</td>\n",
       "      <td>4</td>\n",
       "      <td>[File:Can-logo.png, File:Flag of New Zealand.s...</td>\n",
       "      <td>95</td>\n",
       "      <td>34</td>\n",
       "      <td>Cycling Action Network (CAN) is a national cyc...</td>\n",
       "      <td>2008-03-28T21:12:19Z</td>\n",
       "      <td>114</td>\n",
       "    </tr>\n",
       "    <tr>\n",
       "      <th>3</th>\n",
       "      <td>List of automated transit networks suppliers</td>\n",
       "      <td>234</td>\n",
       "      <td>71</td>\n",
       "      <td>7</td>\n",
       "      <td>[Category:All articles with bare URLs for cita...</td>\n",
       "      <td>10</td>\n",
       "      <td>[File:ATO.svg, File:Flag of Australia (convert...</td>\n",
       "      <td>382</td>\n",
       "      <td>110</td>\n",
       "      <td>This is a list of well-known automated transit...</td>\n",
       "      <td>2014-10-03T19:15:00Z</td>\n",
       "      <td>178</td>\n",
       "    </tr>\n",
       "    <tr>\n",
       "      <th>2</th>\n",
       "      <td>Car</td>\n",
       "      <td>5692</td>\n",
       "      <td>500</td>\n",
       "      <td>41</td>\n",
       "      <td>[Category:19th-century inventions, Category:Al...</td>\n",
       "      <td>10</td>\n",
       "      <td>[File:07-08 Chevrolet Suburban LT.jpg, File:18...</td>\n",
       "      <td>500</td>\n",
       "      <td>272</td>\n",
       "      <td>A car, or an automobile, is a motor vehicle wi...</td>\n",
       "      <td>2001-11-01T00:18:55Z</td>\n",
       "      <td>93856</td>\n",
       "    </tr>\n",
       "    <tr>\n",
       "      <th>8</th>\n",
       "      <td>Walking</td>\n",
       "      <td>5264</td>\n",
       "      <td>500</td>\n",
       "      <td>17</td>\n",
       "      <td>[Category:All Wikipedia articles in need of up...</td>\n",
       "      <td>10</td>\n",
       "      <td>[File:0 15e16 17027a85 orig.jpg, File:1987Worl...</td>\n",
       "      <td>500</td>\n",
       "      <td>327</td>\n",
       "      <td>Walking (also known as ambulation) is one of t...</td>\n",
       "      <td>2001-08-19T18:46:26Z</td>\n",
       "      <td>11545</td>\n",
       "    </tr>\n",
       "    <tr>\n",
       "      <th>6</th>\n",
       "      <td>I BIKE Dublin</td>\n",
       "      <td>389</td>\n",
       "      <td>24</td>\n",
       "      <td>13</td>\n",
       "      <td>[Category:All Wikipedia articles written in Hi...</td>\n",
       "      <td>4</td>\n",
       "      <td>[File:Critical Mass Cycle Dublin.jpg, File:IBI...</td>\n",
       "      <td>42</td>\n",
       "      <td>19</td>\n",
       "      <td>I BIKE Dublin is an advocacy group founded in ...</td>\n",
       "      <td>2019-12-04T11:20:05Z</td>\n",
       "      <td>178</td>\n",
       "    </tr>\n",
       "  </tbody>\n",
       "</table>\n",
       "</div>"
      ]
     },
     "metadata": {},
     "output_type": "display_data"
    },
    {
     "name": "stdout",
     "output_type": "stream",
     "text": [
      "\n",
      "Total articles collected: 21\n"
     ]
    }
   ],
   "execution_count": 17
  },
  {
   "metadata": {},
   "cell_type": "markdown",
   "source": "### Annotating info about clicks",
   "id": "1c7d475f060b35b1"
  },
  {
   "metadata": {
    "ExecuteTime": {
     "end_time": "2025-10-19T14:47:07.767680Z",
     "start_time": "2025-10-19T14:45:48.824112Z"
    }
   },
   "cell_type": "code",
   "source": [
    "path = \"C:\\\\Users\\\\piecz\\\\PycharmProjects\\\\pythonProject2\\\\WdAN_projekt\\\\data\\\\clickstream-enwiki-2024-09.tsv.gz\"\n",
    "articles_of_interest = [x.replace(\" \", \"_\") for x in df_articles.title.tolist()]\n",
    "\n",
    "clicks_in = pd.Series(0, index=articles_of_interest)\n",
    "clicks_out = pd.Series(0, index=articles_of_interest)\n",
    "\n",
    "chunksize = 500_000\n",
    "\n",
    "for chunk in pd.read_csv(path, sep=\"\\t\", header=None, chunksize=chunksize):\n",
    "    chunk.columns = [\"source\", \"target\", \"type\", \"count\"]\n",
    "    \n",
    "    out_chunk = chunk[chunk[\"source\"].isin(articles_of_interest)]\n",
    "    out_sum = out_chunk.groupby(\"source\")[\"count\"].sum()\n",
    "    clicks_out[out_sum.index] += out_sum\n",
    "    \n",
    "    in_chunk = chunk[chunk[\"target\"].isin(articles_of_interest)]\n",
    "    in_sum = in_chunk.groupby(\"target\")[\"count\"].sum()\n",
    "    clicks_in[in_sum.index] += in_sum\n",
    "\n",
    "summary = pd.DataFrame({\n",
    "    \"article\": articles_of_interest,\n",
    "    \"clicks_in\": clicks_in.values,\n",
    "    \"clicks_out\": clicks_out.values\n",
    "})\n",
    "\n",
    "print(summary)"
   ],
   "id": "f7f27d281502bf22",
   "outputs": [
    {
     "name": "stdout",
     "output_type": "stream",
     "text": [
      "                                         article  clicks_in  clicks_out\n",
      "0                               Cycling_advocacy        290          15\n",
      "1                                      Biketober         20           0\n",
      "2                        Critical_Mass_(cycling)       3259         265\n",
      "3                         Cycling_Action_Network         11           0\n",
      "4                          Dutch_Cycling_Embassy          0           0\n",
      "5                                     Ghost_bike       3133         378\n",
      "6                                  I_BIKE_Dublin         50           0\n",
      "7                                   Kidical_Mass        253          24\n",
      "8                                 Le_Tour_Entier          0           0\n",
      "9                                 Ovarian_Psycos         69           0\n",
      "10                                       Quaxing          0           0\n",
      "11                   Vision_Zero_(New_York_City)        135           0\n",
      "12                             Private_transport       2340         400\n",
      "13                                  Business_jet      15089       18639\n",
      "14                                           Car      90858       27109\n",
      "15  List_of_automated_transit_networks_suppliers         84           0\n",
      "16                              Mobility_scooter       4774         462\n",
      "17                        Personal_rapid_transit       2792         993\n",
      "18                                  Pyréolophore        796         143\n",
      "19                              Shared_transport        520          56\n",
      "20                                       Walking       5550        1319\n"
     ]
    }
   ],
   "execution_count": 18
  },
  {
   "metadata": {
    "ExecuteTime": {
     "end_time": "2025-10-19T14:47:08.126014Z",
     "start_time": "2025-10-19T14:47:07.933147Z"
    }
   },
   "cell_type": "code",
   "source": [
    "summary.article = summary.article.str.replace(\"_\", \" \")\n",
    "\n",
    "df_articles_summary = df_articles.merge(summary, left_on = \"title\", right_on = \"article\")\n",
    "df_articles_summary = df_articles_summary.drop(\"article\",axis =1)\n",
    "\n",
    "df_articles_summary[\"clicks_per_view\"] = np.where(\n",
    "    df_articles_summary[\"mo_page_views\"] != 0,\n",
    "    df_articles_summary[\"clicks_out\"] / df_articles_summary[\"mo_page_views\"],\n",
    "    0\n",
    ")\n",
    "\n",
    "df_articles_summary.head()"
   ],
   "id": "81ef827e808b3e",
   "outputs": [
    {
     "data": {
      "text/plain": [
       "                     title  word_count  num_links_internal  num_categories  \\\n",
       "0         Cycling advocacy        1106                 174              13   \n",
       "1                Biketober         219                 100               5   \n",
       "2  Critical Mass (cycling)        1869                 152              15   \n",
       "3   Cycling Action Network         459                  23               9   \n",
       "4    Dutch Cycling Embassy         112                   7               4   \n",
       "\n",
       "                                          categories  num_images  \\\n",
       "0  [Category:Advocacy groups, Category:Articles w...           5   \n",
       "1  [Category:Articles with short description, Cat...           2   \n",
       "2  [Category:Articles containing video clips, Cat...           9   \n",
       "3  [Category:All articles containing potentially ...           4   \n",
       "4  [Category:All stub articles, Category:Articles...           1   \n",
       "\n",
       "                                        image_titles  num_edits  num_editors  \\\n",
       "0  [File:A Short History of Traffic Engineering.p...        229          139   \n",
       "1  [File:Biketober promotional material.png, File...          6            5   \n",
       "2  [File:Commons-logo.svg, File:Critical Mass, Sa...        500          255   \n",
       "3  [File:Can-logo.png, File:Flag of New Zealand.s...         95           34   \n",
       "4                 [File:Flag of the Netherlands.svg]          4            2   \n",
       "\n",
       "                                             summary         creation_date  \\\n",
       "0  Cycling advocacy consists of activities that c...  2005-09-16T21:50:36Z   \n",
       "1  Biketober is a month-long festival that celebr...  2024-09-13T03:11:54Z   \n",
       "2  Critical Mass is a form of direct action in wh...  2003-01-28T07:28:37Z   \n",
       "3  Cycling Action Network (CAN) is a national cyc...  2008-03-28T21:12:19Z   \n",
       "4  The Dutch Cycling Embassy is a public-private ...  2025-07-19T18:16:14Z   \n",
       "\n",
       "   mo_page_views  clicks_in  clicks_out  clicks_per_view  \n",
       "0           1067        290          15         0.014058  \n",
       "1             75         20           0         0.000000  \n",
       "2           5197       3259         265         0.050991  \n",
       "3            114         11           0         0.000000  \n",
       "4             63          0           0         0.000000  "
      ],
      "text/html": [
       "<div>\n",
       "<style scoped>\n",
       "    .dataframe tbody tr th:only-of-type {\n",
       "        vertical-align: middle;\n",
       "    }\n",
       "\n",
       "    .dataframe tbody tr th {\n",
       "        vertical-align: top;\n",
       "    }\n",
       "\n",
       "    .dataframe thead th {\n",
       "        text-align: right;\n",
       "    }\n",
       "</style>\n",
       "<table border=\"1\" class=\"dataframe\">\n",
       "  <thead>\n",
       "    <tr style=\"text-align: right;\">\n",
       "      <th></th>\n",
       "      <th>title</th>\n",
       "      <th>word_count</th>\n",
       "      <th>num_links_internal</th>\n",
       "      <th>num_categories</th>\n",
       "      <th>categories</th>\n",
       "      <th>num_images</th>\n",
       "      <th>image_titles</th>\n",
       "      <th>num_edits</th>\n",
       "      <th>num_editors</th>\n",
       "      <th>summary</th>\n",
       "      <th>creation_date</th>\n",
       "      <th>mo_page_views</th>\n",
       "      <th>clicks_in</th>\n",
       "      <th>clicks_out</th>\n",
       "      <th>clicks_per_view</th>\n",
       "    </tr>\n",
       "  </thead>\n",
       "  <tbody>\n",
       "    <tr>\n",
       "      <th>0</th>\n",
       "      <td>Cycling advocacy</td>\n",
       "      <td>1106</td>\n",
       "      <td>174</td>\n",
       "      <td>13</td>\n",
       "      <td>[Category:Advocacy groups, Category:Articles w...</td>\n",
       "      <td>5</td>\n",
       "      <td>[File:A Short History of Traffic Engineering.p...</td>\n",
       "      <td>229</td>\n",
       "      <td>139</td>\n",
       "      <td>Cycling advocacy consists of activities that c...</td>\n",
       "      <td>2005-09-16T21:50:36Z</td>\n",
       "      <td>1067</td>\n",
       "      <td>290</td>\n",
       "      <td>15</td>\n",
       "      <td>0.014058</td>\n",
       "    </tr>\n",
       "    <tr>\n",
       "      <th>1</th>\n",
       "      <td>Biketober</td>\n",
       "      <td>219</td>\n",
       "      <td>100</td>\n",
       "      <td>5</td>\n",
       "      <td>[Category:Articles with short description, Cat...</td>\n",
       "      <td>2</td>\n",
       "      <td>[File:Biketober promotional material.png, File...</td>\n",
       "      <td>6</td>\n",
       "      <td>5</td>\n",
       "      <td>Biketober is a month-long festival that celebr...</td>\n",
       "      <td>2024-09-13T03:11:54Z</td>\n",
       "      <td>75</td>\n",
       "      <td>20</td>\n",
       "      <td>0</td>\n",
       "      <td>0.000000</td>\n",
       "    </tr>\n",
       "    <tr>\n",
       "      <th>2</th>\n",
       "      <td>Critical Mass (cycling)</td>\n",
       "      <td>1869</td>\n",
       "      <td>152</td>\n",
       "      <td>15</td>\n",
       "      <td>[Category:Articles containing video clips, Cat...</td>\n",
       "      <td>9</td>\n",
       "      <td>[File:Commons-logo.svg, File:Critical Mass, Sa...</td>\n",
       "      <td>500</td>\n",
       "      <td>255</td>\n",
       "      <td>Critical Mass is a form of direct action in wh...</td>\n",
       "      <td>2003-01-28T07:28:37Z</td>\n",
       "      <td>5197</td>\n",
       "      <td>3259</td>\n",
       "      <td>265</td>\n",
       "      <td>0.050991</td>\n",
       "    </tr>\n",
       "    <tr>\n",
       "      <th>3</th>\n",
       "      <td>Cycling Action Network</td>\n",
       "      <td>459</td>\n",
       "      <td>23</td>\n",
       "      <td>9</td>\n",
       "      <td>[Category:All articles containing potentially ...</td>\n",
       "      <td>4</td>\n",
       "      <td>[File:Can-logo.png, File:Flag of New Zealand.s...</td>\n",
       "      <td>95</td>\n",
       "      <td>34</td>\n",
       "      <td>Cycling Action Network (CAN) is a national cyc...</td>\n",
       "      <td>2008-03-28T21:12:19Z</td>\n",
       "      <td>114</td>\n",
       "      <td>11</td>\n",
       "      <td>0</td>\n",
       "      <td>0.000000</td>\n",
       "    </tr>\n",
       "    <tr>\n",
       "      <th>4</th>\n",
       "      <td>Dutch Cycling Embassy</td>\n",
       "      <td>112</td>\n",
       "      <td>7</td>\n",
       "      <td>4</td>\n",
       "      <td>[Category:All stub articles, Category:Articles...</td>\n",
       "      <td>1</td>\n",
       "      <td>[File:Flag of the Netherlands.svg]</td>\n",
       "      <td>4</td>\n",
       "      <td>2</td>\n",
       "      <td>The Dutch Cycling Embassy is a public-private ...</td>\n",
       "      <td>2025-07-19T18:16:14Z</td>\n",
       "      <td>63</td>\n",
       "      <td>0</td>\n",
       "      <td>0</td>\n",
       "      <td>0.000000</td>\n",
       "    </tr>\n",
       "  </tbody>\n",
       "</table>\n",
       "</div>"
      ]
     },
     "execution_count": 19,
     "metadata": {},
     "output_type": "execute_result"
    }
   ],
   "execution_count": 19
  },
  {
   "metadata": {},
   "cell_type": "markdown",
   "source": "### Adding to the database",
   "id": "cbfbf0ba532eff33"
  },
  {
   "metadata": {
    "ExecuteTime": {
     "end_time": "2025-10-19T14:56:37.831534Z",
     "start_time": "2025-10-19T14:56:37.808487Z"
    }
   },
   "cell_type": "code",
   "source": [
    "db_path = \"C:\\\\Users\\\\piecz\\\\PycharmProjects\\\\WdAD_projekt_wikipedia\\\\data\\\\wikipedia_db\"\n",
    "tb_name = \"test_19_10_2025\""
   ],
   "id": "efd245bfafc7956a",
   "outputs": [],
   "execution_count": 26
  },
  {
   "metadata": {
    "ExecuteTime": {
     "end_time": "2025-10-19T14:59:33.509504Z",
     "start_time": "2025-10-19T14:59:33.246888Z"
    }
   },
   "cell_type": "code",
   "source": [
    "conn = sqlite3.connect(db_path)\n",
    "cursor = conn.cursor()\n",
    "\n",
    "cursor.execute(\"\"\"\n",
    "CREATE TABLE IF NOT EXISTS articles (\n",
    "    title TEXT,\n",
    "    word_count INTEGER,\n",
    "    num_links_internal INTEGER,\n",
    "    num_categories INTEGER,\n",
    "    categories TEXT,\n",
    "    num_images INTEGER,\n",
    "    image_titles TEXT,\n",
    "    num_edits INTEGER,\n",
    "    num_editors INTEGER,\n",
    "    summary TEXT,\n",
    "    creation_date TEXT,\n",
    "    mo_page_views INTEGER,\n",
    "    clicks_in INTEGER,\n",
    "    clicks_out INTEGER,\n",
    "    clicks_per_view REAL\n",
    ")\n",
    "\"\"\")\n",
    "\n",
    "\n",
    "conn.commit()\n",
    "conn.close()\n",
    "print(f\"Database created at: {db_path}\")"
   ],
   "id": "28426b5317e331b9",
   "outputs": [
    {
     "ename": "ProgrammingError",
     "evalue": "Error binding parameter 5: type 'list' is not supported",
     "output_type": "error",
     "traceback": [
      "\u001B[31m---------------------------------------------------------------------------\u001B[39m",
      "\u001B[31mProgrammingError\u001B[39m                          Traceback (most recent call last)",
      "\u001B[36mCell\u001B[39m\u001B[36m \u001B[39m\u001B[32mIn[28]\u001B[39m\u001B[32m, line 27\u001B[39m\n\u001B[32m     23\u001B[39m conn.commit()\n\u001B[32m     26\u001B[39m \u001B[38;5;28;01mfor\u001B[39;00m _, row \u001B[38;5;129;01min\u001B[39;00m df_articles_summary.iterrows():\n\u001B[32m---> \u001B[39m\u001B[32m27\u001B[39m     \u001B[43mcursor\u001B[49m\u001B[43m.\u001B[49m\u001B[43mexecute\u001B[49m\u001B[43m(\u001B[49m\u001B[33;43m\"\"\"\u001B[39;49m\n\u001B[32m     28\u001B[39m \u001B[33;43m        INSERT OR IGNORE INTO articles \u001B[39;49m\n\u001B[32m     29\u001B[39m \u001B[33;43m        (title, word_count, num_links_internal, num_categories, categories, num_images, image_titles,\u001B[39;49m\n\u001B[32m     30\u001B[39m \u001B[33;43m         num_edits, num_editors, summary, creation_date, mo_page_views, clicks_in, clicks_out, clicks_per_view)\u001B[39;49m\n\u001B[32m     31\u001B[39m \u001B[33;43m        VALUES (?, ?, ?, ?, ?, ?, ?, ?, ?, ?, ?, ?, ?, ?, ?)\u001B[39;49m\n\u001B[32m     32\u001B[39m \u001B[33;43m    \u001B[39;49m\u001B[33;43m\"\"\"\u001B[39;49m\u001B[43m,\u001B[49m\u001B[43m \u001B[49m\u001B[38;5;28;43mtuple\u001B[39;49m\u001B[43m(\u001B[49m\u001B[43mrow\u001B[49m\u001B[43m)\u001B[49m\u001B[43m)\u001B[49m\n\u001B[32m     34\u001B[39m conn.commit()\n\u001B[32m     35\u001B[39m conn.close()\n",
      "\u001B[31mProgrammingError\u001B[39m: Error binding parameter 5: type 'list' is not supported"
     ]
    }
   ],
   "execution_count": 28
  },
  {
   "metadata": {},
   "cell_type": "code",
   "outputs": [],
   "execution_count": null,
   "source": "",
   "id": "ee71b4ffdd951b5c"
  }
 ],
 "metadata": {
  "kernelspec": {
   "display_name": "Python 3",
   "language": "python",
   "name": "python3"
  },
  "language_info": {
   "codemirror_mode": {
    "name": "ipython",
    "version": 2
   },
   "file_extension": ".py",
   "mimetype": "text/x-python",
   "name": "python",
   "nbconvert_exporter": "python",
   "pygments_lexer": "ipython2",
   "version": "2.7.6"
  }
 },
 "nbformat": 4,
 "nbformat_minor": 5
}
