{
 "cells": [
  {
   "metadata": {},
   "cell_type": "markdown",
   "source": [
    "# Loading Data via the Wikipedia API\n",
    "\n",
    "## Overview of the Prepared Dataset\n",
    "\n",
    "- The planned target variable is the **Click-Through Rate (CTR)** of selected Wikipedia pages.  \n",
    "- Data will be collected for **5,000–10,000 Wikipedia articles** on similar topics (e.g., science) to ensure accurate predictions.  \n",
    "- The script will retrieve the following **features** for each article:  \n",
    "  - topic,  \n",
    "  - summary,  \n",
    "  - number and list of categories,  \n",
    "  - article length (in words),  \n",
    "  - number of links,  \n",
    "  - number of links in the first section,\n",
    "  - number of edits and editors,  \n",
    "  - clicks in,  \n",
    "  - clicks out,  \n",
    "  - number of page views over the last 30 days.  \n",
    "- Based on these data, **derived features** will be created — for example:  \n",
    "  - one-hot encoding of selected keywords (based on a bag-of-words approach),  \n",
    "  - title and/or summary embeddings,  \n",
    "  - ratio of links to total words.  \n",
    "- Additionally, **external metadata** related to web traffic will be retrieved (e.g., Google Trends data for article titles).  \n"
   ],
   "id": "996c39b054e3bdb2"
  },
  {
   "metadata": {
    "ExecuteTime": {
     "end_time": "2025-10-19T15:08:13.710670Z",
     "start_time": "2025-10-19T15:08:13.678941Z"
    }
   },
   "cell_type": "code",
   "source": "%cd C:\\Users\\piecz\\PycharmProjects\\WdAD_projekt_wikipedia",
   "id": "d569027256213bc4",
   "outputs": [
    {
     "name": "stdout",
     "output_type": "stream",
     "text": [
      "C:\\Users\\piecz\\PycharmProjects\\WdAD_projekt_wikipedia\n"
     ]
    }
   ],
   "execution_count": 32
  },
  {
   "metadata": {},
   "cell_type": "code",
   "source": "!pip install wikipedia-api",
   "id": "93ad46383ab0fdeb",
   "outputs": [],
   "execution_count": null
  },
  {
   "metadata": {
    "ExecuteTime": {
     "end_time": "2025-10-19T14:37:22.457675Z",
     "start_time": "2025-10-19T14:37:22.330550Z"
    }
   },
   "cell_type": "code",
   "source": [
    "import pandas as pd\n",
    "import numpy as np\n",
    "import wikipediaapi\n",
    "import sqlite3\n",
    "import os\n",
    "import requests\n",
    "from IPython.display import display\n",
    "import time\n",
    "import random\n",
    "from requests.exceptions import RequestException\n",
    "from json import JSONDecodeError\n",
    "import functions.wiki_db as wiki_db\n",
    "import importlib\n",
    "importlib.reload(wiki_db)"
   ],
   "id": "1583ff91d66b6d27",
   "outputs": [
    {
     "data": {
      "text/plain": [
       "<module 'functions.wiki_db' from 'C:\\\\Users\\\\piecz\\\\PycharmProjects\\\\WdAD_projekt_wikipedia\\\\functions\\\\wiki_db.py'>"
      ]
     },
     "execution_count": 8,
     "metadata": {},
     "output_type": "execute_result"
    }
   ],
   "execution_count": 8
  },
  {
   "metadata": {},
   "cell_type": "markdown",
   "source": "# Load articles belonging to the given categories",
   "id": "68c16f1bce6ad54e"
  },
  {
   "metadata": {
    "ExecuteTime": {
     "end_time": "2025-10-19T15:35:56.486544Z",
     "start_time": "2025-10-19T15:19:19.412303Z"
    }
   },
   "cell_type": "code",
   "source": [
    "categories_list = [\"Mathematics\"]  \n",
    "df_list = []\n",
    "\n",
    "for category in categories_list:\n",
    "    df = wiki_db.get_articles_from_category(category, depth=1)\n",
    "    df_list.append(df)\n",
    "    print(f\"\\nNumber of articles from {category}: {len(df)}\")"
   ],
   "id": "334e62306df365fd",
   "outputs": [
    {
     "name": "stdout",
     "output_type": "stream",
     "text": [
      "\n",
      "Number of articles from Mathematics: 1434\n"
     ]
    }
   ],
   "execution_count": 36
  },
  {
   "metadata": {
    "ExecuteTime": {
     "end_time": "2025-10-19T15:35:57.484521Z",
     "start_time": "2025-10-19T15:35:57.392759Z"
    }
   },
   "cell_type": "code",
   "source": [
    "df_articles = pd.concat(df_list)\n",
    "display(df_articles.sample(5))\n",
    "print(f\"\\nTotal articles collected: {len(df_articles)}\")"
   ],
   "id": "207524dc09edef17",
   "outputs": [
    {
     "data": {
      "text/plain": [
       "                                title  word_count  num_links_internal  \\\n",
       "745                   Sphuṭacandrāpti         153                 131   \n",
       "290                 List of manifolds         342                 208   \n",
       "439           Continuum (measurement)         448                  45   \n",
       "707  History of mathematical notation        8594                 500   \n",
       "648                 Eudemus of Rhodes        1089                 251   \n",
       "\n",
       "     num_categories                                         categories  \\\n",
       "745              13  [Category:All Wikipedia articles written in In...   \n",
       "290               4  [Category:Articles with short description, Cat...   \n",
       "439              10  [Category:All articles needing additional refe...   \n",
       "707              20  [Category:All articles with unsourced statemen...   \n",
       "648              26  [Category:300s BC deaths, Category:370s BC bir...   \n",
       "\n",
       "     num_images                                       image_titles  num_edits  \\\n",
       "745           3  [File:045r b.jpg, File:Arithmetic symbols.svg,...         14   \n",
       "290           1              [File:Wikibooks-logo-en-noslogan.svg]         76   \n",
       "439           2  [File:Question book-new.svg, File:Split-arrows...        124   \n",
       "707          10  [File:Chounumerals.svg, File:Death of Archimed...        500   \n",
       "648           6  [File:Commons-logo.svg, File:Eudemos von Rhodo...        123   \n",
       "\n",
       "     num_editors                                            summary  \\\n",
       "745            8  Sphuṭacandrāpti (Computation of True Moon) is ...   \n",
       "290           37  This is a list of particular manifolds, by Wik...   \n",
       "439           94  Continuum (pl.: continua or continuums) theori...   \n",
       "707          107  The history of mathematical notation covers th...   \n",
       "648           88  Eudemus of Rhodes (Ancient Greek: Εὔδημος; c. ...   \n",
       "\n",
       "            creation_date  mo_page_views  \n",
       "745  2017-03-22T00:55:07Z            107  \n",
       "290  2004-09-10T14:44:49Z            842  \n",
       "439  2006-12-06T19:19:22Z           1864  \n",
       "707  2006-07-27T01:27:11Z           3225  \n",
       "648  2005-12-17T22:10:14Z           1276  "
      ],
      "text/html": [
       "<div>\n",
       "<style scoped>\n",
       "    .dataframe tbody tr th:only-of-type {\n",
       "        vertical-align: middle;\n",
       "    }\n",
       "\n",
       "    .dataframe tbody tr th {\n",
       "        vertical-align: top;\n",
       "    }\n",
       "\n",
       "    .dataframe thead th {\n",
       "        text-align: right;\n",
       "    }\n",
       "</style>\n",
       "<table border=\"1\" class=\"dataframe\">\n",
       "  <thead>\n",
       "    <tr style=\"text-align: right;\">\n",
       "      <th></th>\n",
       "      <th>title</th>\n",
       "      <th>word_count</th>\n",
       "      <th>num_links_internal</th>\n",
       "      <th>num_categories</th>\n",
       "      <th>categories</th>\n",
       "      <th>num_images</th>\n",
       "      <th>image_titles</th>\n",
       "      <th>num_edits</th>\n",
       "      <th>num_editors</th>\n",
       "      <th>summary</th>\n",
       "      <th>creation_date</th>\n",
       "      <th>mo_page_views</th>\n",
       "    </tr>\n",
       "  </thead>\n",
       "  <tbody>\n",
       "    <tr>\n",
       "      <th>745</th>\n",
       "      <td>Sphuṭacandrāpti</td>\n",
       "      <td>153</td>\n",
       "      <td>131</td>\n",
       "      <td>13</td>\n",
       "      <td>[Category:All Wikipedia articles written in In...</td>\n",
       "      <td>3</td>\n",
       "      <td>[File:045r b.jpg, File:Arithmetic symbols.svg,...</td>\n",
       "      <td>14</td>\n",
       "      <td>8</td>\n",
       "      <td>Sphuṭacandrāpti (Computation of True Moon) is ...</td>\n",
       "      <td>2017-03-22T00:55:07Z</td>\n",
       "      <td>107</td>\n",
       "    </tr>\n",
       "    <tr>\n",
       "      <th>290</th>\n",
       "      <td>List of manifolds</td>\n",
       "      <td>342</td>\n",
       "      <td>208</td>\n",
       "      <td>4</td>\n",
       "      <td>[Category:Articles with short description, Cat...</td>\n",
       "      <td>1</td>\n",
       "      <td>[File:Wikibooks-logo-en-noslogan.svg]</td>\n",
       "      <td>76</td>\n",
       "      <td>37</td>\n",
       "      <td>This is a list of particular manifolds, by Wik...</td>\n",
       "      <td>2004-09-10T14:44:49Z</td>\n",
       "      <td>842</td>\n",
       "    </tr>\n",
       "    <tr>\n",
       "      <th>439</th>\n",
       "      <td>Continuum (measurement)</td>\n",
       "      <td>448</td>\n",
       "      <td>45</td>\n",
       "      <td>10</td>\n",
       "      <td>[Category:All articles needing additional refe...</td>\n",
       "      <td>2</td>\n",
       "      <td>[File:Question book-new.svg, File:Split-arrows...</td>\n",
       "      <td>124</td>\n",
       "      <td>94</td>\n",
       "      <td>Continuum (pl.: continua or continuums) theori...</td>\n",
       "      <td>2006-12-06T19:19:22Z</td>\n",
       "      <td>1864</td>\n",
       "    </tr>\n",
       "    <tr>\n",
       "      <th>707</th>\n",
       "      <td>History of mathematical notation</td>\n",
       "      <td>8594</td>\n",
       "      <td>500</td>\n",
       "      <td>20</td>\n",
       "      <td>[Category:All articles with unsourced statemen...</td>\n",
       "      <td>10</td>\n",
       "      <td>[File:Chounumerals.svg, File:Death of Archimed...</td>\n",
       "      <td>500</td>\n",
       "      <td>107</td>\n",
       "      <td>The history of mathematical notation covers th...</td>\n",
       "      <td>2006-07-27T01:27:11Z</td>\n",
       "      <td>3225</td>\n",
       "    </tr>\n",
       "    <tr>\n",
       "      <th>648</th>\n",
       "      <td>Eudemus of Rhodes</td>\n",
       "      <td>1089</td>\n",
       "      <td>251</td>\n",
       "      <td>26</td>\n",
       "      <td>[Category:300s BC deaths, Category:370s BC bir...</td>\n",
       "      <td>6</td>\n",
       "      <td>[File:Commons-logo.svg, File:Eudemos von Rhodo...</td>\n",
       "      <td>123</td>\n",
       "      <td>88</td>\n",
       "      <td>Eudemus of Rhodes (Ancient Greek: Εὔδημος; c. ...</td>\n",
       "      <td>2005-12-17T22:10:14Z</td>\n",
       "      <td>1276</td>\n",
       "    </tr>\n",
       "  </tbody>\n",
       "</table>\n",
       "</div>"
      ]
     },
     "metadata": {},
     "output_type": "display_data"
    },
    {
     "name": "stdout",
     "output_type": "stream",
     "text": [
      "\n",
      "Total articles collected: 1434\n"
     ]
    }
   ],
   "execution_count": 37
  },
  {
   "metadata": {},
   "cell_type": "markdown",
   "source": "### Annotating info about clicks",
   "id": "1c7d475f060b35b1"
  },
  {
   "metadata": {
    "ExecuteTime": {
     "end_time": "2025-10-19T16:37:05.172173Z",
     "start_time": "2025-10-19T16:37:05.038244Z"
    }
   },
   "cell_type": "code",
   "source": "df_articles = df_articles.drop_duplicates(subset=\"title\")",
   "id": "84efdfeadbafd177",
   "outputs": [],
   "execution_count": 45
  },
  {
   "metadata": {
    "ExecuteTime": {
     "end_time": "2025-10-19T16:37:49.029005Z",
     "start_time": "2025-10-19T16:37:08.110195Z"
    }
   },
   "cell_type": "code",
   "source": [
    "path = \"C:\\\\Users\\\\piecz\\\\PycharmProjects\\\\pythonProject2\\\\WdAN_projekt\\\\data\\\\clickstream-enwiki-2024-09.tsv.gz\"\n",
    "articles_of_interest = [x.replace(\" \", \"_\") for x in df_articles.title.tolist()]\n",
    "\n",
    "clicks_in = pd.Series(0, index=articles_of_interest)\n",
    "clicks_out = pd.Series(0, index=articles_of_interest)\n",
    "\n",
    "chunksize = 500_000\n",
    "\n",
    "for chunk in pd.read_csv(path, sep=\"\\t\", header=None, chunksize=chunksize):\n",
    "    chunk.columns = [\"source\", \"target\", \"type\", \"count\"]\n",
    "    \n",
    "    out_chunk = chunk[chunk[\"source\"].isin(articles_of_interest)]\n",
    "    out_sum = out_chunk.groupby(\"source\")[\"count\"].sum()\n",
    "    clicks_out[out_sum.index] += out_sum\n",
    "    \n",
    "    in_chunk = chunk[chunk[\"target\"].isin(articles_of_interest)]\n",
    "    in_sum = in_chunk.groupby(\"target\")[\"count\"].sum()\n",
    "    clicks_in[in_sum.index] += in_sum\n",
    "\n",
    "summary = pd.DataFrame({\n",
    "    \"article\": articles_of_interest,\n",
    "    \"clicks_in\": clicks_in.values,\n",
    "    \"clicks_out\": clicks_out.values\n",
    "})\n",
    "\n",
    "print(summary)"
   ],
   "id": "f7f27d281502bf22",
   "outputs": [
    {
     "name": "stdout",
     "output_type": "stream",
     "text": [
      "                              article  clicks_in  clicks_out\n",
      "0                         Mathematics     117924       54025\n",
      "1                                  −2         82          16\n",
      "2                        Chang_Thokpa          0           0\n",
      "3             Language_of_mathematics       3967         540\n",
      "4                         Limit_group          0           0\n",
      "...                               ...        ...         ...\n",
      "1314  Weierstrass–Mandelbrot_function          0           0\n",
      "1315                 Weisner's_method         19           0\n",
      "1316                    Weyl_sequence        355          75\n",
      "1317    Whittaker–Henderson_smoothing          0           0\n",
      "1318                            WIRIS         74           0\n",
      "\n",
      "[1319 rows x 3 columns]\n"
     ]
    }
   ],
   "execution_count": 46
  },
  {
   "metadata": {
    "ExecuteTime": {
     "end_time": "2025-10-19T16:38:34.889609Z",
     "start_time": "2025-10-19T16:38:34.755999Z"
    }
   },
   "cell_type": "code",
   "source": [
    "summary.article = summary.article.str.replace(\"_\", \" \")\n",
    "\n",
    "df_articles_summary = df_articles.merge(summary, left_on = \"title\", right_on = \"article\")\n",
    "df_articles_summary = df_articles_summary.drop(\"article\",axis =1)\n",
    "\n",
    "df_articles_summary[\"clicks_per_view\"] = np.where(\n",
    "    df_articles_summary[\"mo_page_views\"] != 0,\n",
    "    df_articles_summary[\"clicks_out\"] / df_articles_summary[\"mo_page_views\"],\n",
    "    0\n",
    ")\n",
    "\n",
    "df_articles_summary.head()"
   ],
   "id": "81ef827e808b3e",
   "outputs": [
    {
     "data": {
      "text/plain": [
       "                     title  word_count  num_links_internal  num_categories  \\\n",
       "0              Mathematics        8041                 500              23   \n",
       "1                       −2        1178                 500              11   \n",
       "2             Chang Thokpa         582                  23               7   \n",
       "3  Language of mathematics         797                  83               6   \n",
       "4              Limit group        1077                  43               8   \n",
       "\n",
       "                                          categories  num_images  \\\n",
       "0  [Category:All Wikipedia articles written in Am...          10   \n",
       "1  [Category:2 (number), Category:Articles with s...           0   \n",
       "2  [Category:Articles with short description, Cat...           4   \n",
       "3  [Category:All articles needing additional refe...           1   \n",
       "4  [Category:Algebra, Category:Articles with shor...           0   \n",
       "\n",
       "                                        image_titles  num_edits  num_editors  \\\n",
       "0  [File:Arithmetic symbols.svg, File:Bakhshali n...        500          284   \n",
       "1                                                 []         48           17   \n",
       "2  [File:Classical Meitei odd numbers - related t...          9            3   \n",
       "3                       [File:Question book-new.svg]        307          169   \n",
       "4                                                 []         28            7   \n",
       "\n",
       "                                             summary         creation_date  \\\n",
       "0  Mathematics is a field of study that discovers...  2001-11-08T15:31:38Z   \n",
       "1  In mathematics, negative two or minus two is a...  2025-08-22T04:03:57Z   \n",
       "2  The concept of Chang Thokpa (ꯆꯪ ꯊꯣꯛꯄ) is a cen...  2023-10-17T14:07:02Z   \n",
       "3  The language of mathematics or mathematical la...  2003-11-20T14:31:23Z   \n",
       "4  In mathematics, specifically in group theory a...  2025-01-21T04:14:53Z   \n",
       "\n",
       "   mo_page_views  clicks_in  clicks_out  clicks_per_view  \n",
       "0         160941     117924       54025         0.335682  \n",
       "1           4212         82          16         0.003799  \n",
       "2             80          0           0         0.000000  \n",
       "3           3135       3967         540         0.172249  \n",
       "4            237          0           0         0.000000  "
      ],
      "text/html": [
       "<div>\n",
       "<style scoped>\n",
       "    .dataframe tbody tr th:only-of-type {\n",
       "        vertical-align: middle;\n",
       "    }\n",
       "\n",
       "    .dataframe tbody tr th {\n",
       "        vertical-align: top;\n",
       "    }\n",
       "\n",
       "    .dataframe thead th {\n",
       "        text-align: right;\n",
       "    }\n",
       "</style>\n",
       "<table border=\"1\" class=\"dataframe\">\n",
       "  <thead>\n",
       "    <tr style=\"text-align: right;\">\n",
       "      <th></th>\n",
       "      <th>title</th>\n",
       "      <th>word_count</th>\n",
       "      <th>num_links_internal</th>\n",
       "      <th>num_categories</th>\n",
       "      <th>categories</th>\n",
       "      <th>num_images</th>\n",
       "      <th>image_titles</th>\n",
       "      <th>num_edits</th>\n",
       "      <th>num_editors</th>\n",
       "      <th>summary</th>\n",
       "      <th>creation_date</th>\n",
       "      <th>mo_page_views</th>\n",
       "      <th>clicks_in</th>\n",
       "      <th>clicks_out</th>\n",
       "      <th>clicks_per_view</th>\n",
       "    </tr>\n",
       "  </thead>\n",
       "  <tbody>\n",
       "    <tr>\n",
       "      <th>0</th>\n",
       "      <td>Mathematics</td>\n",
       "      <td>8041</td>\n",
       "      <td>500</td>\n",
       "      <td>23</td>\n",
       "      <td>[Category:All Wikipedia articles written in Am...</td>\n",
       "      <td>10</td>\n",
       "      <td>[File:Arithmetic symbols.svg, File:Bakhshali n...</td>\n",
       "      <td>500</td>\n",
       "      <td>284</td>\n",
       "      <td>Mathematics is a field of study that discovers...</td>\n",
       "      <td>2001-11-08T15:31:38Z</td>\n",
       "      <td>160941</td>\n",
       "      <td>117924</td>\n",
       "      <td>54025</td>\n",
       "      <td>0.335682</td>\n",
       "    </tr>\n",
       "    <tr>\n",
       "      <th>1</th>\n",
       "      <td>−2</td>\n",
       "      <td>1178</td>\n",
       "      <td>500</td>\n",
       "      <td>11</td>\n",
       "      <td>[Category:2 (number), Category:Articles with s...</td>\n",
       "      <td>0</td>\n",
       "      <td>[]</td>\n",
       "      <td>48</td>\n",
       "      <td>17</td>\n",
       "      <td>In mathematics, negative two or minus two is a...</td>\n",
       "      <td>2025-08-22T04:03:57Z</td>\n",
       "      <td>4212</td>\n",
       "      <td>82</td>\n",
       "      <td>16</td>\n",
       "      <td>0.003799</td>\n",
       "    </tr>\n",
       "    <tr>\n",
       "      <th>2</th>\n",
       "      <td>Chang Thokpa</td>\n",
       "      <td>582</td>\n",
       "      <td>23</td>\n",
       "      <td>7</td>\n",
       "      <td>[Category:Articles with short description, Cat...</td>\n",
       "      <td>4</td>\n",
       "      <td>[File:Classical Meitei odd numbers - related t...</td>\n",
       "      <td>9</td>\n",
       "      <td>3</td>\n",
       "      <td>The concept of Chang Thokpa (ꯆꯪ ꯊꯣꯛꯄ) is a cen...</td>\n",
       "      <td>2023-10-17T14:07:02Z</td>\n",
       "      <td>80</td>\n",
       "      <td>0</td>\n",
       "      <td>0</td>\n",
       "      <td>0.000000</td>\n",
       "    </tr>\n",
       "    <tr>\n",
       "      <th>3</th>\n",
       "      <td>Language of mathematics</td>\n",
       "      <td>797</td>\n",
       "      <td>83</td>\n",
       "      <td>6</td>\n",
       "      <td>[Category:All articles needing additional refe...</td>\n",
       "      <td>1</td>\n",
       "      <td>[File:Question book-new.svg]</td>\n",
       "      <td>307</td>\n",
       "      <td>169</td>\n",
       "      <td>The language of mathematics or mathematical la...</td>\n",
       "      <td>2003-11-20T14:31:23Z</td>\n",
       "      <td>3135</td>\n",
       "      <td>3967</td>\n",
       "      <td>540</td>\n",
       "      <td>0.172249</td>\n",
       "    </tr>\n",
       "    <tr>\n",
       "      <th>4</th>\n",
       "      <td>Limit group</td>\n",
       "      <td>1077</td>\n",
       "      <td>43</td>\n",
       "      <td>8</td>\n",
       "      <td>[Category:Algebra, Category:Articles with shor...</td>\n",
       "      <td>0</td>\n",
       "      <td>[]</td>\n",
       "      <td>28</td>\n",
       "      <td>7</td>\n",
       "      <td>In mathematics, specifically in group theory a...</td>\n",
       "      <td>2025-01-21T04:14:53Z</td>\n",
       "      <td>237</td>\n",
       "      <td>0</td>\n",
       "      <td>0</td>\n",
       "      <td>0.000000</td>\n",
       "    </tr>\n",
       "  </tbody>\n",
       "</table>\n",
       "</div>"
      ]
     },
     "execution_count": 47,
     "metadata": {},
     "output_type": "execute_result"
    }
   ],
   "execution_count": 47
  },
  {
   "metadata": {},
   "cell_type": "markdown",
   "source": "### Saving results",
   "id": "cbfbf0ba532eff33"
  },
  {
   "metadata": {
    "ExecuteTime": {
     "end_time": "2025-10-19T16:49:54.569534Z",
     "start_time": "2025-10-19T16:49:53.491896Z"
    }
   },
   "cell_type": "code",
   "source": [
    "path = \"data//math_19_10_2025.csv\"\n",
    "df_articles_summary.to_csv(path)"
   ],
   "id": "ee71b4ffdd951b5c",
   "outputs": [],
   "execution_count": 49
  },
  {
   "metadata": {},
   "cell_type": "code",
   "outputs": [],
   "execution_count": null,
   "source": "",
   "id": "83bc4a4203acb18f"
  }
 ],
 "metadata": {
  "kernelspec": {
   "display_name": "Python 3",
   "language": "python",
   "name": "python3"
  },
  "language_info": {
   "codemirror_mode": {
    "name": "ipython",
    "version": 2
   },
   "file_extension": ".py",
   "mimetype": "text/x-python",
   "name": "python",
   "nbconvert_exporter": "python",
   "pygments_lexer": "ipython2",
   "version": "2.7.6"
  }
 },
 "nbformat": 4,
 "nbformat_minor": 5
}
